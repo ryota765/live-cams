{
 "cells": [
  {
   "cell_type": "code",
   "execution_count": 5,
   "metadata": {},
   "outputs": [],
   "source": [
    "from selenium import webdriver\n",
    "from webdriver_manager.chrome import ChromeDriverManager"
   ]
  },
  {
   "cell_type": "markdown",
   "metadata": {},
   "source": [
    "# Launch web page in Chrome"
   ]
  },
  {
   "cell_type": "code",
   "execution_count": 6,
   "metadata": {},
   "outputs": [
    {
     "name": "stderr",
     "output_type": "stream",
     "text": [
      "\n",
      "\n",
      "====== WebDriver manager ======\n",
      "Current google-chrome version is 92.0.4515\n",
      "Get LATEST driver version for 92.0.4515\n",
      "There is no [mac64] chromedriver for browser 92.0.4515 in cache\n",
      "Get LATEST driver version for 92.0.4515\n",
      "Trying to download new driver from https://chromedriver.storage.googleapis.com/92.0.4515.43/chromedriver_mac64.zip\n",
      "Driver has been saved in cache [/Users/ryotanomura/.wdm/drivers/chromedriver/mac64/92.0.4515.43]\n"
     ]
    }
   ],
   "source": [
    "driver = webdriver.Chrome(ChromeDriverManager().install())\n",
    "driver.get('https://www.cametan.com')"
   ]
  },
  {
   "cell_type": "markdown",
   "metadata": {},
   "source": [
    "# Load info from Prefecture page"
   ]
  },
  {
   "cell_type": "code",
   "execution_count": 31,
   "metadata": {},
   "outputs": [],
   "source": [
    "# area_list = ['body > div.content-wrap > div.content-left > div.content-area']\n",
    "area_dict = {}\n",
    "area_ul_list = driver.find_elements_by_css_selector(\"div.content-area > ul\")\n",
    "\n",
    "for ul in area_ul_list:\n",
    "    area_name = ul.text\n",
    "    area_a_list = ul.find_elements_by_css_selector('a')\n",
    "    \n",
    "    for a in area_a_list:\n",
    "        area_dict[a.text] = a.get_attribute('href')"
   ]
  },
  {
   "cell_type": "code",
   "execution_count": 32,
   "metadata": {},
   "outputs": [
    {
     "data": {
      "text/plain": [
       "{'北海道': 'https://www.cametan.com/area/hokkaidou.html',\n",
       " '青森': 'https://www.cametan.com/area/aomori.html',\n",
       " '秋田': 'https://www.cametan.com/area/akita.html',\n",
       " '岩手': 'https://www.cametan.com/area/iwate.html',\n",
       " '山形': 'https://www.cametan.com/area/yamagata.html',\n",
       " '宮城': 'https://www.cametan.com/area/miyagi.html',\n",
       " '福島': 'https://www.cametan.com/area/fukushima.html',\n",
       " '新潟': 'https://www.cametan.com/area/niigata.html',\n",
       " '富山': 'https://www.cametan.com/area/toyama.html',\n",
       " '石川': 'https://www.cametan.com/area/ishikawa.html',\n",
       " '福井': 'https://www.cametan.com/area/fukui.html',\n",
       " '群馬': 'https://www.cametan.com/area/gunma.html',\n",
       " '栃木': 'https://www.cametan.com/area/tochigi.html',\n",
       " '茨城': 'https://www.cametan.com/area/ibaraki.html',\n",
       " '山梨': 'https://www.cametan.com/area/yamanashi.html',\n",
       " '埼玉': 'https://www.cametan.com/area/saitama.html',\n",
       " '千葉': 'https://www.cametan.com/area/chiba.html',\n",
       " '神奈川': 'https://www.cametan.com/area/kanagawa.html',\n",
       " '東京': 'https://www.cametan.com/area/tokyo.html',\n",
       " '岐阜': 'https://www.cametan.com/area/gifu.html',\n",
       " '長野': 'https://www.cametan.com/area/nagano.html',\n",
       " '三重': 'https://www.cametan.com/area/mie.html',\n",
       " '愛知': 'https://www.cametan.com/area/aichi.html',\n",
       " '静岡': 'https://www.cametan.com/area/shizuoka.html',\n",
       " '京都': 'https://www.cametan.com/area/kyoto.html',\n",
       " '滋賀': 'https://www.cametan.com/area/shiga.html',\n",
       " '大阪': 'https://www.cametan.com/area/osaka.html',\n",
       " '奈良': 'https://www.cametan.com/area/nara.html',\n",
       " '兵庫': 'https://www.cametan.com/area/hyogo.html',\n",
       " '和歌山': 'https://www.cametan.com/area/wakayama.html',\n",
       " '山口': 'https://www.cametan.com/area/yamaguchi.html',\n",
       " '島根': 'https://www.cametan.com/area/shimane.html',\n",
       " '鳥取': 'https://www.cametan.com/area/tottori.html',\n",
       " '広島': 'https://www.cametan.com/area/hiroshima.html',\n",
       " '岡山': 'https://www.cametan.com/area/okayama.html',\n",
       " '愛媛': 'https://www.cametan.com/area/ehime.html',\n",
       " '香川': 'https://www.cametan.com/area/kagawa.html',\n",
       " '高知': 'https://www.cametan.com/area/kochi.html',\n",
       " '徳島': 'https://www.cametan.com/area/tokushima.html',\n",
       " '佐賀': 'https://www.cametan.com/area/saga.html',\n",
       " '福岡': 'https://www.cametan.com/area/fukuoka.html',\n",
       " '長崎': 'https://www.cametan.com/area/nagasaki.html',\n",
       " '大分': 'https://www.cametan.com/area/oita.html',\n",
       " '熊本': 'https://www.cametan.com/area/kumamoto.html',\n",
       " '宮崎': 'https://www.cametan.com/area/miyazaki.html',\n",
       " '鹿児島': 'https://www.cametan.com/area/kagoshima.html',\n",
       " '沖縄': 'https://www.cametan.com/area/okinawa.html'}"
      ]
     },
     "execution_count": 32,
     "metadata": {},
     "output_type": "execute_result"
    }
   ],
   "source": [
    "area_dict"
   ]
  },
  {
   "cell_type": "code",
   "execution_count": null,
   "metadata": {},
   "outputs": [],
   "source": []
  }
 ],
 "metadata": {
  "kernelspec": {
   "display_name": "Python 3",
   "language": "python",
   "name": "python3"
  },
  "language_info": {
   "codemirror_mode": {
    "name": "ipython",
    "version": 3
   },
   "file_extension": ".py",
   "mimetype": "text/x-python",
   "name": "python",
   "nbconvert_exporter": "python",
   "pygments_lexer": "ipython3",
   "version": "3.7.6"
  }
 },
 "nbformat": 4,
 "nbformat_minor": 4
}
