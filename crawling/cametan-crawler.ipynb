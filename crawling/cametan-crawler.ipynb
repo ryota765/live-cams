{
 "cells": [
  {
   "cell_type": "code",
   "execution_count": 31,
   "metadata": {},
   "outputs": [],
   "source": [
    "import pickle\n",
    "import re\n",
    "\n",
    "from selenium import webdriver\n",
    "from webdriver_manager.chrome import ChromeDriverManager"
   ]
  },
  {
   "cell_type": "markdown",
   "metadata": {},
   "source": [
    "# Params"
   ]
  },
  {
   "cell_type": "code",
   "execution_count": 10,
   "metadata": {},
   "outputs": [],
   "source": [
    "data_dir = 'data'"
   ]
  },
  {
   "cell_type": "markdown",
   "metadata": {},
   "source": [
    "# Launch web page in Chrome"
   ]
  },
  {
   "cell_type": "code",
   "execution_count": 4,
   "metadata": {},
   "outputs": [
    {
     "name": "stderr",
     "output_type": "stream",
     "text": [
      "\n",
      "\n",
      "====== WebDriver manager ======\n",
      "Current google-chrome version is 91.0.4472\n",
      "Get LATEST driver version for 91.0.4472\n",
      "There is no [mac64] chromedriver for browser 91.0.4472 in cache\n",
      "Get LATEST driver version for 91.0.4472\n",
      "Trying to download new driver from https://chromedriver.storage.googleapis.com/91.0.4472.101/chromedriver_mac64.zip\n",
      "Driver has been saved in cache [/Users/ryotanomura/.wdm/drivers/chromedriver/mac64/91.0.4472.101]\n"
     ]
    }
   ],
   "source": [
    "driver = webdriver.Chrome(ChromeDriverManager().install())\n",
    "driver.get('https://www.cametan.com')"
   ]
  },
  {
   "cell_type": "markdown",
   "metadata": {},
   "source": [
    "# Load info"
   ]
  },
  {
   "cell_type": "raw",
   "metadata": {},
   "source": [
    "普通に県の一覧ページから見ると、404みたいなページを返される\n",
    "市町村一覧のページから見ることに（\"area/mncp/~~.html\"）"
   ]
  },
  {
   "cell_type": "markdown",
   "metadata": {},
   "source": [
    "## Prefecture page"
   ]
  },
  {
   "cell_type": "code",
   "execution_count": 8,
   "metadata": {},
   "outputs": [],
   "source": [
    "prefecture_dict = {}\n",
    "area_ul_list = driver.find_elements_by_css_selector(\"div.content-area > ul\")\n",
    "\n",
    "for ul in area_ul_list:\n",
    "    area_name = ul.text\n",
    "    area_a_list = ul.find_elements_by_css_selector('a')\n",
    "    \n",
    "    for a in area_a_list:\n",
    "        prefecture_dict[a.text] = a.get_attribute('href')\n",
    "\n",
    "# with open(f'{data_dir}/prefecture_dict.pickle', mode='wb') as f:\n",
    "#     pickle.dump(prefecture_dict, f)"
   ]
  },
  {
   "cell_type": "markdown",
   "metadata": {},
   "source": [
    "## Municipalities page"
   ]
  },
  {
   "cell_type": "code",
   "execution_count": 18,
   "metadata": {
    "scrolled": true
   },
   "outputs": [],
   "source": [
    "mncp_dict = {}\n",
    "\n",
    "for p_name, p_url in prefecture_dict.items():\n",
    "    \n",
    "    if p_name not in mncp_dict:\n",
    "        mncp_dict[p_name] = {}\n",
    "    \n",
    "    mncp_list_url = p_url.replace(\"area/\", \"area/mncp/\")\n",
    "    driver.get(mncp_list_url)\n",
    "    \n",
    "    # mncp without links will be ignored\n",
    "    mncp_elems = driver.find_elements_by_css_selector('ul.gyo-area > li > a')\n",
    "    for elem in mncp_elems:\n",
    "        mncp_dict[p_name][elem.text] = elem.get_attribute('href')\n",
    "        \n",
    "# with open(f'{data_dir}/mncp_dict.pickle', mode='wb') as f:\n",
    "#     pickle.dump(mncp_dict, f)"
   ]
  },
  {
   "cell_type": "markdown",
   "metadata": {},
   "source": [
    "## Detail page"
   ]
  },
  {
   "cell_type": "code",
   "execution_count": 37,
   "metadata": {},
   "outputs": [],
   "source": [
    "def search_lat_lon(text):\n",
    "    return re.search(r'[0-9]+.[0-9]+,[0-9]+.[0-9]+', text).group(0)"
   ]
  },
  {
   "cell_type": "code",
   "execution_count": 55,
   "metadata": {},
   "outputs": [],
   "source": [
    "loc_dict = {}\n",
    "\n",
    "for p_name, p_elem in mncp_dict.items():\n",
    "    if p_name not in loc_dict:\n",
    "        loc_dict[p_name] = {}\n",
    "    \n",
    "    for m_name, m_url in p_elem.items():\n",
    "        if m_name not in loc_dict[p_name]:\n",
    "            loc_dict[p_name][m_name] = {}\n",
    "            \n",
    "        count = 0\n",
    "        driver.get(m_url)\n",
    "        \n",
    "        gmap_url = driver.find_element_by_css_selector('div.city-map > iframe').get_attribute('src')\n",
    "        coordinates = search_lat_lon(gmap_url)\n",
    "        \n",
    "        # get url\n",
    "        loc_elems = driver.find_elements_by_css_selector('div.rank-wrap')\n",
    "        for loc in loc_elems:\n",
    "            loc_dict[p_name][m_name][count] = {\n",
    "                'url': loc.find_element_by_css_selector('div > div > a').get_attribute('href'),\n",
    "                'text': loc.text\n",
    "            }\n",
    "            count += 1\n",
    "        \n",
    "        loc_b_elems = driver.find_elements_by_css_selector('div.rankb-wrap')\n",
    "        for loc in loc_b_elems:\n",
    "            loc_dict[p_name][m_name][count] = {\n",
    "                'url': loc.find_element_by_css_selector('div > a').get_attribute('href'),\n",
    "                'text': loc.text\n",
    "            }\n",
    "            count += 1\n",
    "\n",
    "# with open(f'{data_dir}/loc_dict.pickle', mode='wb') as f:\n",
    "#     pickle.dump(loc_dict, f)"
   ]
  },
  {
   "cell_type": "code",
   "execution_count": 54,
   "metadata": {},
   "outputs": [
    {
     "data": {
      "text/plain": [
       "'http://info-road.hdb.hkd.mlit.go.jp/index_gazou2.htm'"
      ]
     },
     "execution_count": 54,
     "metadata": {},
     "output_type": "execute_result"
    }
   ],
   "source": []
  },
  {
   "cell_type": "code",
   "execution_count": 59,
   "metadata": {},
   "outputs": [],
   "source": []
  },
  {
   "cell_type": "code",
   "execution_count": null,
   "metadata": {},
   "outputs": [],
   "source": []
  }
 ],
 "metadata": {
  "kernelspec": {
   "display_name": "Python 3",
   "language": "python",
   "name": "python3"
  },
  "language_info": {
   "codemirror_mode": {
    "name": "ipython",
    "version": 3
   },
   "file_extension": ".py",
   "mimetype": "text/x-python",
   "name": "python",
   "nbconvert_exporter": "python",
   "pygments_lexer": "ipython3",
   "version": "3.8.5"
  }
 },
 "nbformat": 4,
 "nbformat_minor": 4
}
