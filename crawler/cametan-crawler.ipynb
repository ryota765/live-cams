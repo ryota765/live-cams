{
 "cells": [
  {
   "cell_type": "code",
   "execution_count": 31,
   "metadata": {},
   "outputs": [],
   "source": [
    "import pickle\n",
    "import re\n",
    "\n",
    "from selenium import webdriver\n",
    "from webdriver_manager.chrome import ChromeDriverManager"
   ]
  },
  {
   "cell_type": "markdown",
   "metadata": {},
   "source": [
    "# Params"
   ]
  },
  {
   "cell_type": "code",
   "execution_count": 10,
   "metadata": {},
   "outputs": [],
   "source": [
    "data_dir = 'data'"
   ]
  },
  {
   "cell_type": "markdown",
   "metadata": {},
   "source": [
    "# Launch web page in Chrome"
   ]
  },
  {
   "cell_type": "code",
   "execution_count": 82,
   "metadata": {},
   "outputs": [
    {
     "name": "stderr",
     "output_type": "stream",
     "text": [
      "\n",
      "\n",
      "====== WebDriver manager ======\n",
      "Current google-chrome version is 91.0.4472\n",
      "Get LATEST driver version for 91.0.4472\n",
      "Driver [/Users/ryotanomura/.wdm/drivers/chromedriver/mac64/91.0.4472.101/chromedriver] found in cache\n"
     ]
    }
   ],
   "source": [
    "driver = webdriver.Chrome(ChromeDriverManager().install())\n",
    "driver.get('https://www.cametan.com')"
   ]
  },
  {
   "cell_type": "markdown",
   "metadata": {},
   "source": [
    "# Load info"
   ]
  },
  {
   "cell_type": "raw",
   "metadata": {},
   "source": [
    "普通に県の一覧ページから見ると、404みたいなページを返される\n",
    "市町村一覧のページから見ることに（\"area/mncp/~~.html\"）"
   ]
  },
  {
   "cell_type": "markdown",
   "metadata": {},
   "source": [
    "## Prefecture page"
   ]
  },
  {
   "cell_type": "code",
   "execution_count": 8,
   "metadata": {},
   "outputs": [],
   "source": [
    "prefecture_dict = {}\n",
    "area_ul_list = driver.find_elements_by_css_selector(\"div.content-area > ul\")\n",
    "\n",
    "for ul in area_ul_list:\n",
    "    area_name = ul.text\n",
    "    area_a_list = ul.find_elements_by_css_selector('a')\n",
    "    \n",
    "    for a in area_a_list:\n",
    "        prefecture_dict[a.text] = a.get_attribute('href')\n",
    "\n",
    "# with open(f'{data_dir}/prefecture_dict.pickle', mode='wb') as f:\n",
    "#     pickle.dump(prefecture_dict, f)"
   ]
  },
  {
   "cell_type": "markdown",
   "metadata": {},
   "source": [
    "## Municipalities page"
   ]
  },
  {
   "cell_type": "code",
   "execution_count": 18,
   "metadata": {
    "scrolled": true
   },
   "outputs": [],
   "source": [
    "mncp_dict = {}\n",
    "\n",
    "for p_name, p_url in prefecture_dict.items():\n",
    "    \n",
    "    if p_name not in mncp_dict:\n",
    "        mncp_dict[p_name] = {}\n",
    "    \n",
    "    mncp_list_url = p_url.replace(\"area/\", \"area/mncp/\")\n",
    "    driver.get(mncp_list_url)\n",
    "    \n",
    "    # mncp without links will be ignored\n",
    "    mncp_elems = driver.find_elements_by_css_selector('ul.gyo-area > li > a')\n",
    "    for elem in mncp_elems:\n",
    "        mncp_dict[p_name][elem.text] = elem.get_attribute('href')\n",
    "        \n",
    "# with open(f'{data_dir}/mncp_dict.pickle', mode='wb') as f:\n",
    "#     pickle.dump(mncp_dict, f)"
   ]
  },
  {
   "cell_type": "markdown",
   "metadata": {},
   "source": [
    "## Detail page"
   ]
  },
  {
   "cell_type": "code",
   "execution_count": 37,
   "metadata": {},
   "outputs": [],
   "source": [
    "def search_lat_lon(text):\n",
    "    return re.search(r'[0-9]+.[0-9]+,[0-9]+.[0-9]+', text).group(0)"
   ]
  },
  {
   "cell_type": "code",
   "execution_count": 55,
   "metadata": {},
   "outputs": [],
   "source": [
    "loc_dict = {}\n",
    "\n",
    "for p_name, p_elem in mncp_dict.items():\n",
    "    if p_name not in loc_dict:\n",
    "        loc_dict[p_name] = {}\n",
    "    \n",
    "    for m_name, m_url in p_elem.items():\n",
    "        if m_name not in loc_dict[p_name]:\n",
    "            loc_dict[p_name][m_name] = {}\n",
    "            \n",
    "        count = 0\n",
    "        driver.get(m_url)\n",
    "        \n",
    "        gmap_url = driver.find_element_by_css_selector('div.city-map > iframe').get_attribute('src')\n",
    "        coordinates = search_lat_lon(gmap_url)\n",
    "        \n",
    "        # get url\n",
    "        loc_elems = driver.find_elements_by_css_selector('div.rank-wrap')\n",
    "        for loc in loc_elems:\n",
    "            loc_dict[p_name][m_name][count] = {\n",
    "                'url': loc.find_element_by_css_selector('div > div > a').get_attribute('href'),\n",
    "                'text': loc.text\n",
    "            }\n",
    "            count += 1\n",
    "        \n",
    "        loc_b_elems = driver.find_elements_by_css_selector('div.rankb-wrap')\n",
    "        for loc in loc_b_elems:\n",
    "            loc_dict[p_name][m_name][count] = {\n",
    "                'url': loc.find_element_by_css_selector('div > a').get_attribute('href'),\n",
    "                'text': loc.text\n",
    "            }\n",
    "            count += 1\n",
    "\n",
    "# with open(f'{data_dir}/loc_dict.pickle', mode='wb') as f:\n",
    "#     pickle.dump(loc_dict, f)"
   ]
  },
  {
   "cell_type": "markdown",
   "metadata": {},
   "source": [
    "## External page"
   ]
  },
  {
   "cell_type": "code",
   "execution_count": 65,
   "metadata": {},
   "outputs": [],
   "source": [
    "def is_internal(url):\n",
    "    return url.startswith('https://www.cametan.com')"
   ]
  },
  {
   "cell_type": "code",
   "execution_count": 83,
   "metadata": {},
   "outputs": [],
   "source": [
    "ext_dict = {}\n",
    "\n",
    "for p_name, p_elem in loc_dict.items():\n",
    "    if p_name not in ext_dict:\n",
    "        ext_dict[p_name] = {}\n",
    "        \n",
    "    for m_name, m_elem in p_elem.items():\n",
    "        if m_name not in ext_dict[p_name]:\n",
    "            ext_dict[p_name][m_name] = {}\n",
    "        \n",
    "        for index, loc_elem in m_elem.items():\n",
    "            url = loc_elem['url']\n",
    "            if is_internal(url):\n",
    "                driver.get(url)\n",
    "                \n",
    "                ext_dict[p_name][m_name][index] = {\n",
    "                    'url': driver.find_element_by_css_selector('div.guide > a').get_attribute('href'),\n",
    "                    'text': driver.find_element_by_css_selector('div.head-right').text\n",
    "                }\n",
    "                \n",
    "# with open(f'{data_dir}/ext_dict.pickle', mode='wb') as f:\n",
    "#     pickle.dump(ext_dict, f)"
   ]
  },
  {
   "cell_type": "markdown",
   "metadata": {},
   "source": [
    "## Aggregate data"
   ]
  },
  {
   "cell_type": "code",
   "execution_count": 96,
   "metadata": {},
   "outputs": [],
   "source": [
    "agg_dict = {}\n",
    "\n",
    "for p_name, p_elem in loc_dict.items():\n",
    "    if p_name not in agg_dict:\n",
    "        agg_dict[p_name] = {}\n",
    "        \n",
    "    for m_name, m_elem in p_elem.items():\n",
    "        if m_name not in agg_dict[p_name]:\n",
    "            agg_dict[p_name][m_name] = {}\n",
    "            \n",
    "        for index, loc_elem in m_elem.items():\n",
    "            url = loc_elem['url']\n",
    "            if is_internal(url):\n",
    "                agg_dict[p_name][m_name][index] = {\n",
    "                    'url': ext_dict[p_name][m_name][index]['url'],\n",
    "                    'text': loc_elem['text'],\n",
    "                    'text-detail': ext_dict[p_name][m_name][index]['text']\n",
    "                }\n",
    "            else:\n",
    "                agg_dict[p_name][m_name][index] = loc_elem\n",
    "                \n",
    "# with open(f'{data_dir}/agg_dict.pickle', mode='wb') as f:\n",
    "#     pickle.dump(agg_dict, f)"
   ]
  },
  {
   "cell_type": "code",
   "execution_count": null,
   "metadata": {},
   "outputs": [],
   "source": []
  }
 ],
 "metadata": {
  "kernelspec": {
   "display_name": "Python 3",
   "language": "python",
   "name": "python3"
  },
  "language_info": {
   "codemirror_mode": {
    "name": "ipython",
    "version": 3
   },
   "file_extension": ".py",
   "mimetype": "text/x-python",
   "name": "python",
   "nbconvert_exporter": "python",
   "pygments_lexer": "ipython3",
   "version": "3.8.5"
  }
 },
 "nbformat": 4,
 "nbformat_minor": 4
}
